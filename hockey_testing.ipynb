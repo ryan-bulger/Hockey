{
 "cells": [
  {
   "cell_type": "code",
   "execution_count": 81,
   "metadata": {},
   "outputs": [],
   "source": [
    "import streamlit as st\n",
    "import requests\n",
    "import json\n",
    "import pandas as pd\n",
    "\n",
    "response = requests.get(f'https://statsapi.web.nhl.com/api/v1/people/8471698/stats?stats=gameLog&season=20222023').json()\n",
    "df = pd.DataFrame.from_dict(response['stats']['splits'])\n",
    "df\n"
   ]
  }
 ],
 "metadata": {
  "kernelspec": {
   "display_name": "Python 3.9.12 ('base')",
   "language": "python",
   "name": "python3"
  },
  "language_info": {
   "codemirror_mode": {
    "name": "ipython",
    "version": 3
   },
   "file_extension": ".py",
   "mimetype": "text/x-python",
   "name": "python",
   "nbconvert_exporter": "python",
   "pygments_lexer": "ipython3",
   "version": "3.9.12"
  },
  "orig_nbformat": 4,
  "vscode": {
   "interpreter": {
    "hash": "7b2c7660418be0c1c726d92d797a7ce8f65e49b2683610c7a567c05150d58fed"
   }
  }
 },
 "nbformat": 4,
 "nbformat_minor": 2
}
